{
 "cells": [
  {
   "attachments": {},
   "cell_type": "markdown",
   "metadata": {},
   "source": [
    "Functool in Python\n",
    "\n",
    "Python docs says this \"Higher-order functions and operations on callable objects\" about functools.\n",
    "\n",
    "The functools module is for higher-order functions: functions that act on or return other functions. In general, any callable object can be treated as a function for the purposes of this module.\n"
   ]
  },
  {
   "cell_type": "code",
   "execution_count": 2,
   "metadata": {},
   "outputs": [
    {
     "name": "stdout",
     "output_type": "stream",
     "text": [
      "1307674368000\n",
      "3628800\n"
     ]
    }
   ],
   "source": [
    "# functools.cache\n",
    "# This is a very simple caching decorator. It is only intended to be used in \n",
    "from functools import cache\n",
    "@cache\n",
    "def factorial(n):\n",
    "    return n * factorial(n-1) if n else 1\n",
    "\n",
    "\n",
    "print(factorial(15))\n",
    "print(factorial(10))"
   ]
  },
  {
   "cell_type": "code",
   "execution_count": 4,
   "metadata": {},
   "outputs": [
    {
     "name": "stdout",
     "output_type": "stream",
     "text": [
      "First time wrapper\n",
      "Second time hello\n"
     ]
    }
   ],
   "source": [
    "# functools.wraps\n",
    "# This will help you to keep the original function name and docstring when you use decorator\n",
    "from functools import wraps\n",
    "\n",
    "# example \n",
    "\n",
    "def decorator(func):\n",
    "    def wrapper():\n",
    "        print(\"This is a wrapper\")\n",
    "        func()\n",
    "    return wrapper\n",
    "\n",
    "@decorator\n",
    "def hello():\n",
    "    print(\"Hello World\")\n",
    "\n",
    "print('First time', hello.__name__) # output: wrapper\n",
    "\n",
    "# So to keep the original function name we can use functools.wraps\n",
    "\n",
    "def decorator(func):\n",
    "    @wraps(func)\n",
    "    def wrapper():\n",
    "        print(\"This is a wrapper\")\n",
    "        func()\n",
    "    return wrapper\n",
    "\n",
    "@decorator\n",
    "def hello():\n",
    "    print(\"Hello World\")\n",
    "\n",
    "print('Second time', hello.__name__) # output: wrapper\n",
    "\n",
    "# See The functools.wrap helps you to keep the original function name and docstring"
   ]
  },
  {
   "cell_type": "code",
   "execution_count": 9,
   "metadata": {},
   "outputs": [
    {
     "name": "stdout",
     "output_type": "stream",
     "text": [
      "[5, 4, 3, 2, 1]\n",
      "['b', 'aa', 'cccc']\n"
     ]
    }
   ],
   "source": [
    "# functools.cmp_to_key\n",
    "from functools import cmp_to_key\n",
    "\n",
    "# Transform an old-style comparison function to a key function. The old-style means a normal function that we define it by ourselves\n",
    "# key function is a function that we use to sort the list or tuple\n",
    "\n",
    "# Let's see an example to understand it better\n",
    "def descending(x, y):\n",
    "    return y - x\n",
    "\n",
    "l = [1, 2, 3, 4, 5]\n",
    "l.sort(key=cmp_to_key(descending))\n",
    "print(l) # output: [5, 4, 3, 2, 1]\n",
    "\n",
    "def string_length(s):\n",
    "    return len(s)\n",
    "\n",
    "l = ['aa', 'b', 'cccc']\n",
    "l.sort(key=string_length)\n",
    "print(l) # output: ['b', 'aa', 'cccc']\n",
    "\n",
    "# You see here we don't need to use cmp_to_key because we don't need to compare the value"
   ]
  }
 ],
 "metadata": {
  "kernelspec": {
   "display_name": "Python 3",
   "language": "python",
   "name": "python3"
  },
  "language_info": {
   "codemirror_mode": {
    "name": "ipython",
    "version": 3
   },
   "file_extension": ".py",
   "mimetype": "text/x-python",
   "name": "python",
   "nbconvert_exporter": "python",
   "pygments_lexer": "ipython3",
   "version": "3.10.6"
  },
  "orig_nbformat": 4,
  "vscode": {
   "interpreter": {
    "hash": "916dbcbb3f70747c44a77c7bcd40155683ae19c65e1c03b4aa3499c5328201f1"
   }
  }
 },
 "nbformat": 4,
 "nbformat_minor": 2
}
