{
 "cells": [
  {
   "attachments": {},
   "cell_type": "markdown",
   "metadata": {},
   "source": [
    "# Generators and Iterators"
   ]
  },
  {
   "attachments": {},
   "cell_type": "markdown",
   "metadata": {},
   "source": [
    "## Iterators\n",
    "\n",
    "We are going to start with iterators because they are the building blocks of generators. \n",
    "\n",
    "An iterator is an object that can be iterated upon. An object which will return data, one element at a time.\n",
    "\n",
    "When we are talking about iterators, we should talk about iterables as well. An iterable is an object that can return an iterator.\n",
    "\n",
    "Now basically, when you program you might want to loop over a collection of items. For example, a list of names. You might want to loop over the list and print out each name.\n",
    "\n",
    "First Iterator was introduced in Python 2.2.\n",
    "\n",
    "Iterators take responsibility for two main actions:\n",
    "\n",
    "    - Returning the data from a stream or container one item at a time\n",
    "    - Keeping track of the current and visited items\n",
    "\n",
    "To create an iterator in Python, we need to implement the methods `__iter__()` and `__next__()` to our object.\n",
    "\n",
    "The `__iter__()` method acts similar to `__init__()` , you can do operations (initializing etc.), but must always return the iterator object itself.\n",
    "The `__iter__()` method returns the iterator object itself. If required, some initialization can be performed.\n",
    "\n",
    "The `__next__()` method also allows you to do operations, and must return the next item in the sequence.\n",
    "\n",
    "FYI: Python uses iterators in operations like `for` loops, `list` comprehensions, `map` and `filter` functions, etc. So, even if you don't use iterators directly, you use them indirectly.\n",
    "\n",
    "### Example\n",
    "\n",
    "Let's create an iterator that returns numbers, starting with 1, and each sequence will increase by one (returning 1,2,3,4,5 etc.)."
   ]
  },
  {
   "cell_type": "code",
   "execution_count": null,
   "metadata": {},
   "outputs": [],
   "source": [
    "class MyNumbers:\n",
    "  def __iter__(self):\n",
    "    self.a = 1\n",
    "    return self\n",
    "\n",
    "  def __next__(self):\n",
    "    if self.a <= 20:\n",
    "      x = self.a\n",
    "      self.a += 1\n",
    "      return x\n",
    "    else:\n",
    "      raise StopIteration\n",
    "\n",
    "myclass = MyNumbers()\n",
    "for x in myclass:\n",
    "  print(x)"
   ]
  },
  {
   "attachments": {},
   "cell_type": "markdown",
   "metadata": {},
   "source": [
    "You can also use the above code in while loop.\n",
    "\n",
    "```python\n",
    "myclass = MyNumbers()\n",
    "iterator = iter(myclass)\n",
    "while True:\n",
    "    try:\n",
    "        print(next(myiter))\n",
    "    except StopIteration:\n",
    "        break\n",
    "```\n",
    "\n",
    "This iterator doesn’t take a data stream as input. Instead, it generates each item by performing a computation that yields values from the sequence. You do this computation inside the .__next__() method.\n",
    "\n",
    "An interesting feature of Python iterators is that they can handle potentially infinite data streams. For example, the following code will print out all the prime numbers between 1 and 1000."
   ]
  },
  {
   "cell_type": "code",
   "execution_count": 2,
   "metadata": {},
   "outputs": [
    {
     "name": "stdout",
     "output_type": "stream",
     "text": [
      "2\n",
      "3\n",
      "5\n",
      "7\n"
     ]
    }
   ],
   "source": [
    "class PrimeNumbers:\n",
    "    def __init__(self, start, end):\n",
    "        self.start = start\n",
    "        self.end = end\n",
    "\n",
    "    def is_prime(self, k):\n",
    "        if k < 2:\n",
    "            return False\n",
    "        for i in range(2, k):\n",
    "            if k % i == 0:\n",
    "                return False\n",
    "        return True\n",
    "\n",
    "    def __iter__(self):\n",
    "        for k in range(self.start, self.end + 1):\n",
    "            if self.is_prime(k):\n",
    "                yield k\n",
    "\n",
    "for x in PrimeNumbers(1, 10):\n",
    "    print(x)"
   ]
  },
  {
   "attachments": {},
   "cell_type": "markdown",
   "metadata": {},
   "source": [
    "Notice the "
   ]
  }
 ],
 "metadata": {
  "kernelspec": {
   "display_name": "Python 3",
   "language": "python",
   "name": "python3"
  },
  "language_info": {
   "codemirror_mode": {
    "name": "ipython",
    "version": 3
   },
   "file_extension": ".py",
   "mimetype": "text/x-python",
   "name": "python",
   "nbconvert_exporter": "python",
   "pygments_lexer": "ipython3",
   "version": "3.10.6"
  },
  "orig_nbformat": 4
 },
 "nbformat": 4,
 "nbformat_minor": 2
}
