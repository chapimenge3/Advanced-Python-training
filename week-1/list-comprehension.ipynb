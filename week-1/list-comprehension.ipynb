{
 "cells": [
  {
   "attachments": {},
   "cell_type": "markdown",
   "metadata": {},
   "source": [
    "List Comprehension in python\n",
    "\n",
    "List comprehension is an elegant way to define and create lists based on existing lists.\n",
    "\n",
    "Most of the times, we use for loop to iterate over a list and then perform some operation on each element of the list and then add the element to a new list. This is a very common task and is very easy to do in python.\n",
    "\n",
    "Using list comprehension, we can perform the same task in a single line of code."
   ]
  },
  {
   "cell_type": "code",
   "execution_count": 4,
   "metadata": {},
   "outputs": [
    {
     "name": "stdout",
     "output_type": "stream",
     "text": [
      "[0, 1, 2, 3, 4, 5, 6, 7, 8, 9]\n",
      "[0, 1, 2, 3, 4, 5, 6, 7, 8, 9]\n"
     ]
    }
   ],
   "source": [
    "# Let's make a list of numbers from 0 to 9\n",
    "numbers = [0, 1, 2, 3, 4, 5, 6, 7, 8, 9]\n",
    "\n",
    "# Let's make a list of numbers from 0 to 9 using list comprehension\n",
    "numbers_1 = [i for i in range(10)]\n",
    "\n",
    "print(numbers)\n",
    "print(numbers_1)"
   ]
  },
  {
   "attachments": {},
   "cell_type": "markdown",
   "metadata": {},
   "source": [
    "So using list comprehension, we can create a new list from an existing list in a single line of code.\n",
    "\n",
    "One more thing is that, list comprehension is faster than normal for loop because it does not store the intermediate results plus it creates the list one time.\n",
    "\n",
    "What about using if condition inside list comprehension?"
   ]
  },
  {
   "cell_type": "code",
   "execution_count": 5,
   "metadata": {},
   "outputs": [
    {
     "name": "stdout",
     "output_type": "stream",
     "text": [
      "[0, 2, 4, 6, 8]\n"
     ]
    }
   ],
   "source": [
    "# using if condition in list comprehension\n",
    "\n",
    "even_numbers = [i for i in range(10) if i % 2 == 0]\n",
    "\n",
    "print(even_numbers)"
   ]
  },
  {
   "attachments": {},
   "cell_type": "markdown",
   "metadata": {},
   "source": [
    "Now we have seen how to use list comprehension to create a new list from an existing list. Moreover, we have seen how to use if condition inside list comprehension.\n",
    "\n",
    "Now let’s see how to use if-else condition inside list comprehension.\n",
    "\n",
    "Syntax:\n",
    "    `list_variable = [expression for item in list if condition else expression]`\n",
    "\n",
    "Example:\n",
    "\n",
    "Make a list of squares of even numbers and cubes of odd numbers from 1 to 10."
   ]
  },
  {
   "cell_type": "code",
   "execution_count": 7,
   "metadata": {},
   "outputs": [
    {
     "name": "stdout",
     "output_type": "stream",
     "text": [
      "[0, 1, 4, 27, 16, 125, 36, 343, 64, 729]\n"
     ]
    }
   ],
   "source": [
    "# Solution for above problem\n",
    "numbers = [i**2 if i % 2 == 0 else i**3 for i in range(10)]\n",
    "\n",
    "print(numbers)"
   ]
  },
  {
   "attachments": {},
   "cell_type": "markdown",
   "metadata": {},
   "source": [
    "So basically to use if-else condition inside list comprehension, we have to use else expression after if condition.\n",
    "\n",
    "Syntax:\n",
    "    `list_variable = [expression if condition else expression for item in list]`\n",
    "\n",
    "But if we want to use only if condition, then we can use the following syntax:\n",
    "\n",
    "Syntax:\n",
    "    `list_variable = [expression for item in list if condition]`\n"
   ]
  }
 ],
 "metadata": {
  "kernelspec": {
   "display_name": "Python 3",
   "language": "python",
   "name": "python3"
  },
  "language_info": {
   "codemirror_mode": {
    "name": "ipython",
    "version": 3
   },
   "file_extension": ".py",
   "mimetype": "text/x-python",
   "name": "python",
   "nbconvert_exporter": "python",
   "pygments_lexer": "ipython3",
   "version": "3.10.6"
  },
  "orig_nbformat": 4,
  "vscode": {
   "interpreter": {
    "hash": "916dbcbb3f70747c44a77c7bcd40155683ae19c65e1c03b4aa3499c5328201f1"
   }
  }
 },
 "nbformat": 4,
 "nbformat_minor": 2
}
