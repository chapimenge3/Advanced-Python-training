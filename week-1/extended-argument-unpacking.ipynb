{
 "cells": [
  {
   "attachments": {},
   "cell_type": "markdown",
   "metadata": {},
   "source": [
    "Extended argument unpacking (*args, **kwargs)\n",
    "\n",
    "First of all, let's see how we can use the * operator to unpack a list or tuple into a function call.\n",
    "\n",
    "In Python * operator apart from the multiplication operator, it can also be used to unpack a list or tuple into a function call.\n",
    "\n",
    "for example:\n",
    "    `print(*[1, 2, 3])` will print 1 2 3"
   ]
  },
  {
   "cell_type": "code",
   "execution_count": 1,
   "metadata": {},
   "outputs": [
    {
     "name": "stdout",
     "output_type": "stream",
     "text": [
      "1 2 3\n"
     ]
    }
   ],
   "source": [
    "print(*[1, 2, 3])"
   ]
  },
  {
   "attachments": {},
   "cell_type": "markdown",
   "metadata": {},
   "source": [
    "So as you can see the * operator unpacks the list into the function call. \n",
    "\n",
    "So what if we want to build a function that calculate the sum of all its arguments?"
   ]
  },
  {
   "cell_type": "code",
   "execution_count": 2,
   "metadata": {},
   "outputs": [
    {
     "name": "stdout",
     "output_type": "stream",
     "text": [
      "6\n"
     ]
    }
   ],
   "source": [
    "def sum(a, b, c):\n",
    "    return a + b + c\n",
    "\n",
    "print(sum(1, 2, 3))"
   ]
  },
  {
   "attachments": {},
   "cell_type": "markdown",
   "metadata": {},
   "source": [
    "Out Function is working fine, but it is restricted to only 3 arguments. What if we want to pass more than 3 arguments? or any number of arguments?\n",
    "\n",
    "Here it comes to rescue. We can use the * operator to unpack the arguments into the function call.\n",
    "\n",
    "So let's modify our function to accept any number of arguments."
   ]
  },
  {
   "cell_type": "code",
   "execution_count": 8,
   "metadata": {},
   "outputs": [
    {
     "name": "stdout",
     "output_type": "stream",
     "text": [
      "(1, 2, 3)\n",
      "6\n",
      "55\n",
      "55\n",
      "55\n"
     ]
    }
   ],
   "source": [
    "def sum(*args):\n",
    "    print(args)\n",
    "\n",
    "sum(1, 2, 3)\n",
    "\n",
    "# so now as you can see we get the arguments as tuple so we can return the sum of the arguments\n",
    "\n",
    "def sum(*args):\n",
    "    total = 0\n",
    "    for arg in args:\n",
    "        total += arg\n",
    "    return total\n",
    "\n",
    "print(sum(1, 2, 3))\n",
    "print(sum(1, 2, 3, 4, 5, 6, 7, 8, 9, 10))\n",
    "\n",
    "# We still get the result as expected for any number of arguments\n",
    "\n",
    "# but what if we have to pass the value by unpacking the list or tuple?\n",
    "nums = [1, 2, 3, 4, 5, 6, 7, 8, 9, 10]\n",
    "print(sum(*nums))\n",
    "print(sum(*range(1, 11)))\n",
    "\n"
   ]
  },
  {
   "attachments": {},
   "cell_type": "markdown",
   "metadata": {},
   "source": [
    "Amazing right? Now we can pass any number of arguments to our function. We can even use range() function to pass any number of arguments."
   ]
  },
  {
   "attachments": {},
   "cell_type": "markdown",
   "metadata": {},
   "source": [
    "Now let's see how we can use the ** operator to unpack a dictionary into a function call.\n",
    "\n",
    "In Python ** operator apart from the exponentiation operator, it can also be used to unpack a dictionary into a function call.\n",
    "\n",
    "As we have seen * is used to unpack a list for any number argument but we didn't use a named variable when we passed the arguments. So how can we pass named arguments to a function?\n",
    "\n",
    "Here comes the ** operator to rescue. We can use the ** operator to unpack a dictionary into a function call.\n",
    "\n",
    "for example:\n",
    "    `login(**{'username': 'admin', 'password': 'admin'})` will call login(username='admin', password='admin')\n",
    "\n",
    "So we can see that the ** operator unpacks the dictionary into the function call."
   ]
  },
  {
   "cell_type": "code",
   "execution_count": 9,
   "metadata": {},
   "outputs": [
    {
     "name": "stdout",
     "output_type": "stream",
     "text": [
      "Logging in with admin and admin\n",
      "Logging in with admin and admin\n",
      "Logging in with admin and admin\n",
      "Logging in with admin and admin\n",
      "Logging in with admin and admin\n"
     ]
    },
    {
     "data": {
      "text/plain": [
       "True"
      ]
     },
     "execution_count": 9,
     "metadata": {},
     "output_type": "execute_result"
    }
   ],
   "source": [
    "def login(username, password):\n",
    "    print(f\"Logging in with {username} and {password}\")\n",
    "    # DO LOGIN HERE\n",
    "    return True\n",
    "\n",
    "login(\"admin\", \"admin\") # this is fine\n",
    "login(username=\"admin\", password=\"admin\") # this is fine too\n",
    "login(password=\"admin\", username=\"admin\") # this is fine too\n",
    "login(\"admin\", password=\"admin\") # this is fine too\n",
    "login(**{\"username\": \"admin\", \"password\": \"admin\"}) # this is fine too\n",
    "\n",
    "# See all the above examples are fine and we can pass the arguments by keyword or by position"
   ]
  },
  {
   "attachments": {},
   "cell_type": "markdown",
   "metadata": {},
   "source": [
    "So how can we leverage this to use * and ** operators to pass any number of arguments to a function?\n",
    "\n",
    "Have you ever seen a function that looks like the below?\n",
    "\n",
    "```python\n",
    "def something(*args, **kwargs):\n",
    "    pass\n",
    "```\n",
    "\n",
    "How are we handling the arguments in this function? We are using the * and ** operators to unpack the arguments into the function call.\n",
    "\n",
    "So let's see how we can use this to pass any number of arguments to a function."
   ]
  },
  {
   "cell_type": "code",
   "execution_count": 11,
   "metadata": {},
   "outputs": [
    {
     "ename": "SyntaxError",
     "evalue": "positional argument follows keyword argument (3677439085.py, line 9)",
     "output_type": "error",
     "traceback": [
      "\u001b[0;36m  Cell \u001b[0;32mIn[11], line 9\u001b[0;36m\u001b[0m\n\u001b[0;31m    function(a=2, 1)\u001b[0m\n\u001b[0m                   ^\u001b[0m\n\u001b[0;31mSyntaxError\u001b[0m\u001b[0;31m:\u001b[0m positional argument follows keyword argument\n"
     ]
    }
   ],
   "source": [
    "def function(*args, **kwargs):\n",
    "    print(args)\n",
    "    print(kwargs)\n",
    "    \n",
    "\n",
    "function(1, 2, 3, 4, 5, 6, 7, 8, 9, 10, a=1, b=2, c=3, d=4, e=5, f=6, g=7, h=8, i=9, j=10)\n",
    "\n",
    "# but what if we want to pass the arguments by keyword and by position?\n",
    "function(a=2, 1)\n",
    "\n",
    "# See we get the error because we can't pass the arguments by keyword and by position\n"
   ]
  },
  {
   "attachments": {},
   "cell_type": "markdown",
   "metadata": {},
   "source": [
    "So the order of the arguments is important. The arguments that are passed before the * operator are positional arguments and the arguments that are passed after the * operator are keyword arguments.\n",
    "\n",
    "So the order is to pass positional arguments first and then keyword arguments."
   ]
  }
 ],
 "metadata": {
  "kernelspec": {
   "display_name": "Python 3",
   "language": "python",
   "name": "python3"
  },
  "language_info": {
   "codemirror_mode": {
    "name": "ipython",
    "version": 3
   },
   "file_extension": ".py",
   "mimetype": "text/x-python",
   "name": "python",
   "nbconvert_exporter": "python",
   "pygments_lexer": "ipython3",
   "version": "3.10.6"
  },
  "orig_nbformat": 4,
  "vscode": {
   "interpreter": {
    "hash": "916dbcbb3f70747c44a77c7bcd40155683ae19c65e1c03b4aa3499c5328201f1"
   }
  }
 },
 "nbformat": 4,
 "nbformat_minor": 2
}
