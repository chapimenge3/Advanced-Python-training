{
 "cells": [
  {
   "attachments": {},
   "cell_type": "markdown",
   "metadata": {},
   "source": [
    "# Lambda Functions\n",
    "\n",
    "Python Lambda Functions are anonymous function means that the function is without a name.\n",
    "\n",
    "In Python, we usually define a function using the def keyword. For example:\n",
    "\n",
    "```python\n",
    "def myfunc(n):\n",
    "    return n\n",
    "```\n",
    "\n",
    "But we can also define a function without a name using the lambda keyword. For example:\n",
    "\n",
    "```python\n",
    "myfunc = lambda n: n\n",
    "```\n",
    "\n",
    "So, the lambda keyword is used to create small anonymous functions.\n",
    "\n",
    "Lambda expressions in Python and other programming languages have their roots in lambda calculus, a model of computation invented by Alonzo Church. You’ll uncover when lambda calculus was introduced and why it’s a fundamental concept that ended up in the Python ecosystem.\n",
    "\n",
    "\n",
    "So the simple syntax of a lambda function is:\n",
    "\n",
    "```python\n",
    "variable = lambda arguments: expression\n",
    "```\n",
    "\n",
    "The lambda function can have any number of arguments but only one expression, which is evaluated and returned.\n",
    "\n",
    "Another pattern used in other languages like JavaScript is to immediately execute a Python lambda function. This is known as an Immediately Invoked Function Expression (IIFE, pronounce “iffy”). Here’s an example:\n",
    "\n",
    "```python\n",
    "(lambda n: n)(5)\n",
    "```\n",
    "\n",
    "Python does not encourage using immediately invoked lambda expressions. It simply results from a lambda expression being callable, unlike the body of a normal function.\n"
   ]
  },
  {
   "attachments": {},
   "cell_type": "markdown",
   "metadata": {},
   "source": [
    "Lambdas can also be used in conjunction with built-in functions like filter(), map(), and reduce(). These functions are used to filter, map, and reduce a sequence of elements. \n",
    "\n",
    "Also, lambda functions can be used to create custom functions that can be used in other functions like sort() and sorted().\n",
    "\n",
    "we can have custom comparison functions that can be passed to the sort() function. For example, we can sort a list of tuples by the second item in the tuple.\n",
    "\n",
    "```python\n",
    "mylist = [(1, 2), (3, 4), (5, 6), (7, 8)]\n",
    "mylist.sort(key=lambda x: x[1])\n",
    "print(mylist)\n",
    "```\n"
   ]
  }
 ],
 "metadata": {
  "language_info": {
   "name": "python"
  },
  "orig_nbformat": 4
 },
 "nbformat": 4,
 "nbformat_minor": 2
}
