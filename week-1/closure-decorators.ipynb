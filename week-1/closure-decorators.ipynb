{
 "cells": [
  {
   "attachments": {},
   "cell_type": "markdown",
   "metadata": {},
   "source": [
    "Closure and Decorators\n",
    "======================\n",
    "\n",
    "First, let's look at what a closure is. \n",
    "\n",
    "A closure is a function that remembers the values of variables that existed when the function was created.\n",
    "\n",
    "Let's look at an example:"
   ]
  },
  {
   "cell_type": "code",
   "execution_count": 1,
   "metadata": {},
   "outputs": [
    {
     "data": {
      "text/plain": [
       "<function __main__.outer_func.<locals>.inner_func()>"
      ]
     },
     "execution_count": 1,
     "metadata": {},
     "output_type": "execute_result"
    }
   ],
   "source": [
    "# closure\n",
    "def outer_func():\n",
    "    message = 'Hi'\n",
    "    def inner_func():\n",
    "        print(message)\n",
    "    return inner_func\n",
    "\n",
    "outer_func()\n",
    "\n",
    "# See the output is <function __main__.outer_func.<locals>.inner_func()>"
   ]
  },
  {
   "attachments": {},
   "cell_type": "markdown",
   "metadata": {},
   "source": [
    "So what is happening in the above example is\n",
    "\n",
    "    - The function `outer` is defined\n",
    "    - The function `outer` is called\n",
    "    - The function `outer` returns the function `inner`\n",
    "\n",
    "This means we have't actually called `inner` yet. We have just defined it.\n",
    "\n"
   ]
  },
  {
   "cell_type": "code",
   "execution_count": 3,
   "metadata": {},
   "outputs": [
    {
     "name": "stdout",
     "output_type": "stream",
     "text": [
      "<function outer_func.<locals>.inner_func at 0x7fa5ce793400>\n",
      "Hi\n"
     ]
    }
   ],
   "source": [
    "# Now let's assign the outer_func() to variable\n",
    "my_func = outer_func()\n",
    "print(my_func) # we have seen this is a function so it can be called\n",
    "\n",
    "my_func()\n",
    "\n",
    "# my_func() printed the message variable from outer_func() function which is Hi\n",
    "# This means the scope of message variable is still exist even after the outer_func() function is finished\n",
    "# This is called closure\n"
   ]
  },
  {
   "cell_type": "code",
   "execution_count": 4,
   "metadata": {},
   "outputs": [
    {
     "name": "stdout",
     "output_type": "stream",
     "text": [
      "Hi\n"
     ]
    }
   ],
   "source": [
    "# Now let's update the example to more example.\n",
    "def outer_func(msg):\n",
    "    message = msg\n",
    "    def inner_func():\n",
    "        print(message)\n",
    "    return inner_func\n",
    "\n",
    "my_func = outer_func('Hi')\n",
    "my_func()\n",
    "# It remember the message variable even after the outer_func() function is finished"
   ]
  },
  {
   "attachments": {},
   "cell_type": "markdown",
   "metadata": {},
   "source": [
    "So now we have seen what a closure is, let's look at what a decorator is.\n",
    "\n",
    "A decorator is a function that takes another function as an argument and extends the behavior of the latter function without explicitly modifying it.\n",
    "\n",
    "Let's look at an example:\n",
    "\n",
    "def decorator_func(func):\n",
    "    def wrapper_func():\n",
    "        print(\"This is awesome\")\n",
    "        func(1)\n",
    "    return wrapper_func\n",
    "\n",
    "def world():\n",
    "    print(\"Hello World\")\n",
    "\n",
    "our_world = decorator_func(world)\n",
    "our_world()\n",
    "\n",
    "\n",
    "so the concept is similar to the closure, but we are playing around with the function that is passed in as an argument."
   ]
  },
  {
   "cell_type": "code",
   "execution_count": 6,
   "metadata": {},
   "outputs": [
    {
     "name": "stdout",
     "output_type": "stream",
     "text": [
      "This is awesome\n",
      "Hello World\n"
     ]
    }
   ],
   "source": [
    "def decorator_func(func):\n",
    "    def wrapper_func():\n",
    "        print(\"This is awesome\")\n",
    "        func()\n",
    "    return wrapper_func\n",
    "\n",
    "def world():\n",
    "    print(\"Hello World\")\n",
    "\n",
    "our_world = decorator_func(world)\n",
    "our_world()"
   ]
  },
  {
   "cell_type": "code",
   "execution_count": 8,
   "metadata": {},
   "outputs": [],
   "source": [
    "# But what is the point of decorator function here?\n",
    "\n",
    "# let's say you have a function that need to check the user is logged in or not before the function is executed\n",
    "\n",
    "my_user = {\n",
    "    \"is_authenticated\": True\n",
    "}\n",
    "\n",
    "def login_required(func):\n",
    "    def wrapper_func():\n",
    "        if my_user.get('is_authenticated'):\n",
    "            func()\n",
    "        else:\n",
    "            print(\"Please login\")\n",
    "    return wrapper_func\n",
    "\n",
    "def user_dashboard(user):\n",
    "    if user.get('is_authenticated'):\n",
    "        print(\"This is user dashboard\")\n",
    "    else:\n",
    "        print(\"Please login\")\n",
    "\n",
    "def user_detail():\n",
    "    print(\"This is user detail\")\n",
    "\n",
    "user_detail_decorated = login_required(user_detail)\n",
    "\n",
    "# So which one is better?\n",
    "\n",
    "# Personally I prefer to use decorator function because it's more readable and easier to maintain\n",
    "# A function doesn't to do other things except the main purpose of the function\n",
    "# in the user_dashboard() function we have to check the user is authenticated or not\n",
    "# but the main purpose of the function is to show the user dashboard\n",
    "# on the other hand in the user_detail() function is doing the main purpose of the function\n",
    "# but what we added is the checking the user is authenticated or not by using decorator function"
   ]
  },
  {
   "cell_type": "code",
   "execution_count": 11,
   "metadata": {},
   "outputs": [
    {
     "name": "stdout",
     "output_type": "stream",
     "text": [
      "This is user dashboard\n",
      "This is user detail\n"
     ]
    }
   ],
   "source": [
    "# let's run them\n",
    "\n",
    "user_dashboard(my_user)\n",
    "user_detail_decorated()\n",
    "\n",
    "# See how much cleaner the user_detail_decorated() function is\n",
    "\n",
    "# Can you imagine if we can do it more easier way? Don't just imagine, let's do it"
   ]
  },
  {
   "cell_type": "code",
   "execution_count": 12,
   "metadata": {},
   "outputs": [
    {
     "name": "stdout",
     "output_type": "stream",
     "text": [
      "This is user detail\n"
     ]
    }
   ],
   "source": [
    "@login_required\n",
    "def user_detail():\n",
    "    print(\"This is user detail\")\n",
    "\n",
    "user_detail()"
   ]
  },
  {
   "attachments": {},
   "cell_type": "markdown",
   "metadata": {},
   "source": [
    "Now obviously most of the time we will have a parameter in out function right ? So let's include that as well.\n",
    "\n",
    "To handle parameter we need to use `*args` and `**kwargs` in our wrapper function. But before that what will happen if we didn't use that"
   ]
  },
  {
   "cell_type": "code",
   "execution_count": 17,
   "metadata": {},
   "outputs": [
    {
     "name": "stdout",
     "output_type": "stream",
     "text": [
      "<function login_required.<locals>.wrapper_func at 0x7fa5cc2b00d0>\n"
     ]
    },
    {
     "ename": "TypeError",
     "evalue": "login_required.<locals>.wrapper_func() takes 0 positional arguments but 1 was given",
     "output_type": "error",
     "traceback": [
      "\u001b[0;31m---------------------------------------------------------------------------\u001b[0m",
      "\u001b[0;31mTypeError\u001b[0m                                 Traceback (most recent call last)",
      "Cell \u001b[0;32mIn[17], line 9\u001b[0m\n\u001b[1;32m      5\u001b[0m \u001b[39mprint\u001b[39m(user_detail_decorated)\n\u001b[1;32m      7\u001b[0m \u001b[39m# The function is the inner function of the decorator function we defined right?\u001b[39;00m\n\u001b[1;32m      8\u001b[0m \u001b[39m# So let's call it now \u001b[39;00m\n\u001b[0;32m----> 9\u001b[0m user_detail_decorated(\u001b[39m'\u001b[39;49m\u001b[39mChapi\u001b[39;49m\u001b[39m'\u001b[39;49m)\n",
      "\u001b[0;31mTypeError\u001b[0m: login_required.<locals>.wrapper_func() takes 0 positional arguments but 1 was given"
     ]
    }
   ],
   "source": [
    "def user_detail(user):\n",
    "    print(f\"This is {user} detail\")\n",
    "\n",
    "user_detail_decorated = login_required(user_detail)\n",
    "print(user_detail_decorated)\n",
    "\n",
    "# The function is the inner function of the decorator function we defined right?\n",
    "# So let's call it now \n",
    "user_detail_decorated('Chapi')"
   ]
  },
  {
   "attachments": {},
   "cell_type": "markdown",
   "metadata": {},
   "source": [
    "We get error because the wrapper function is expecting 0 arguments but we are passing 1 argument.\n",
    "\n",
    "You see when we wrap a function we are not calling it directly, we are calling the wrapper function. So the wrapper function calls the function that is passed in as an argument.\n",
    "\n",
    "Now you the issue is we are passing the argument to the wrapper function and not the function that is passed in as an argument. that is why we get an error.\n",
    "\n",
    "Also one thing to mention is using @decorator_func is the same as doing `our_world = decorator_func(world)`."
   ]
  },
  {
   "cell_type": "code",
   "execution_count": 20,
   "metadata": {},
   "outputs": [
    {
     "name": "stdout",
     "output_type": "stream",
     "text": [
      "This is Chapi detail\n"
     ]
    }
   ],
   "source": [
    "# let's fix the decorator function to accept the argument\n",
    "def login_required(func):\n",
    "    def wrapper_func(*args, **kwargs):\n",
    "        if my_user.get('is_authenticated'):\n",
    "            func(*args, **kwargs)\n",
    "        else:\n",
    "            print(\"Please login\")\n",
    "    return wrapper_func\n",
    "\n",
    "user_detail_decorated = login_required(user_detail)\n",
    "user_detail_decorated('Chapi')"
   ]
  },
  {
   "cell_type": "code",
   "execution_count": 21,
   "metadata": {},
   "outputs": [
    {
     "name": "stdout",
     "output_type": "stream",
     "text": [
      "This is Chapi detail\n"
     ]
    }
   ],
   "source": [
    "# Now it is working fine so we can use the decorator function in @ format\n",
    "\n",
    "@login_required\n",
    "def user_detail(user):\n",
    "    print(f\"This is {user} detail\")\n",
    "\n",
    "user_detail('Chapi')"
   ]
  },
  {
   "attachments": {},
   "cell_type": "markdown",
   "metadata": {},
   "source": [
    "Now we have seen the basics of closures and decorators. Let's look at some real world examples.\n",
    "\n",
    "Let's say we have a function that takes a long time to run. We can use a decorator to time how long it takes to run."
   ]
  },
  {
   "cell_type": "code",
   "execution_count": 22,
   "metadata": {},
   "outputs": [
    {
     "name": "stdout",
     "output_type": "stream",
     "text": [
      "Data processed\n",
      "Total time: 2.0022575855255127\n"
     ]
    }
   ],
   "source": [
    "import time\n",
    "\n",
    "def calculate_time(func):\n",
    "    def wrapper_func(*args, **kwargs):\n",
    "        start = time.time()\n",
    "        func(*args, **kwargs)\n",
    "        end = time.time()\n",
    "        print(f\"Total time: {end - start}\")\n",
    "    return wrapper_func\n",
    "\n",
    "@calculate_time\n",
    "def process_data():\n",
    "    time.sleep(2)\n",
    "    print(\"Data processed\")\n",
    "\n",
    "process_data()"
   ]
  },
  {
   "attachments": {},
   "cell_type": "markdown",
   "metadata": {},
   "source": [
    "As you can see you used the decorator to time how long it took to run the function. This is a very common use case for decorators.\n",
    "\n",
    "Also there are some built in decorators in python. Let's look at some of them.\n",
    "\n",
    "So the most common question is \"Who Are You, Really?\" we ask to the function that is wrapped by the decorator.\n",
    "\n",
    "This we will see in the next section."
   ]
  },
  {
   "attachments": {},
   "cell_type": "markdown",
   "metadata": {},
   "source": [
    "Bonus point i wanna add is what is \n",
    "\n",
    "if __name__ == \"__main__\":\n",
    "    main()\n",
    "\n",
    "What is it ?\n",
    "\n",
    "So basically in python when some script is running by calling like `python file.py` then the `__name__` variable is set to `__main__` and if the script is imported then the `__name__` variable is set to the name of the script.\n",
    "\n",
    "so if we have a script like this\n",
    "\n",
    "    def main():\n",
    "        print(\"Hello World\")\n",
    "\n",
    "    if __name__ == \"__main__\":\n",
    "        main()\n",
    "    \n",
    "Run the above script like `python file.py` and you will see the output `Hello World` but if you import the script in another script and call the `main` function you will not see the output.\n",
    "\n",
    "like file_2.py\n",
    "\n",
    "    import file\n",
    "\n",
    "The main() won't be called when you import the script. The __name__ variable is set to the name of the script when you import it so the if condition will not be satisfied.\n"
   ]
  }
 ],
 "metadata": {
  "kernelspec": {
   "display_name": "Python 3",
   "language": "python",
   "name": "python3"
  },
  "language_info": {
   "codemirror_mode": {
    "name": "ipython",
    "version": 3
   },
   "file_extension": ".py",
   "mimetype": "text/x-python",
   "name": "python",
   "nbconvert_exporter": "python",
   "pygments_lexer": "ipython3",
   "version": "3.10.6"
  },
  "orig_nbformat": 4,
  "vscode": {
   "interpreter": {
    "hash": "916dbcbb3f70747c44a77c7bcd40155683ae19c65e1c03b4aa3499c5328201f1"
   }
  }
 },
 "nbformat": 4,
 "nbformat_minor": 2
}
